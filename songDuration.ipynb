{
 "cells": [
  {
   "cell_type": "markdown",
   "id": "cf782470",
   "metadata": {},
   "source": [
    "# Song Duration: Assignment 1"
   ]
  },
  {
   "cell_type": "markdown",
   "id": "844357dc",
   "metadata": {},
   "source": [
    "### Data distribution\n",
    "1. Using Google Sheets, make an appropriate graph to visualize the entire distribution of\n",
    "this data. Remember to include x and y label and the figure title. Upload a screenshot to\n",
    "Canvas. (Hint: use bin size = 1)\n",
    "2. Is this distribution symmetric or asymmetric? Does it skew? If so, what type?"
   ]
  },
  {
   "cell_type": "code",
   "execution_count": 31,
   "id": "76158caa",
   "metadata": {},
   "outputs": [],
   "source": [
    "import pandas as pd\n",
    "import seaborn as sns\n",
    "import matplotlib.pyplot as plt\n",
    "import scipy.stats as stats\n",
    "import numpy as np"
   ]
  },
  {
   "cell_type": "code",
   "execution_count": 2,
   "id": "527d4512",
   "metadata": {},
   "outputs": [
    {
     "data": {
      "text/html": [
       "<div>\n",
       "<style scoped>\n",
       "    .dataframe tbody tr th:only-of-type {\n",
       "        vertical-align: middle;\n",
       "    }\n",
       "\n",
       "    .dataframe tbody tr th {\n",
       "        vertical-align: top;\n",
       "    }\n",
       "\n",
       "    .dataframe thead th {\n",
       "        text-align: right;\n",
       "    }\n",
       "</style>\n",
       "<table border=\"1\" class=\"dataframe\">\n",
       "  <thead>\n",
       "    <tr style=\"text-align: right;\">\n",
       "      <th></th>\n",
       "      <th>song.duration</th>\n",
       "    </tr>\n",
       "  </thead>\n",
       "  <tbody>\n",
       "    <tr>\n",
       "      <th>0</th>\n",
       "      <td>218.93179</td>\n",
       "    </tr>\n",
       "    <tr>\n",
       "      <th>1</th>\n",
       "      <td>148.03546</td>\n",
       "    </tr>\n",
       "    <tr>\n",
       "      <th>2</th>\n",
       "      <td>177.47546</td>\n",
       "    </tr>\n",
       "    <tr>\n",
       "      <th>3</th>\n",
       "      <td>233.40363</td>\n",
       "    </tr>\n",
       "    <tr>\n",
       "      <th>4</th>\n",
       "      <td>209.60608</td>\n",
       "    </tr>\n",
       "    <tr>\n",
       "      <th>...</th>\n",
       "      <td>...</td>\n",
       "    </tr>\n",
       "    <tr>\n",
       "      <th>9705</th>\n",
       "      <td>386.19383</td>\n",
       "    </tr>\n",
       "    <tr>\n",
       "      <th>9706</th>\n",
       "      <td>168.01914</td>\n",
       "    </tr>\n",
       "    <tr>\n",
       "      <th>9707</th>\n",
       "      <td>193.72363</td>\n",
       "    </tr>\n",
       "    <tr>\n",
       "      <th>9708</th>\n",
       "      <td>300.82567</td>\n",
       "    </tr>\n",
       "    <tr>\n",
       "      <th>9709</th>\n",
       "      <td>209.73669</td>\n",
       "    </tr>\n",
       "  </tbody>\n",
       "</table>\n",
       "<p>9710 rows × 1 columns</p>\n",
       "</div>"
      ],
      "text/plain": [
       "      song.duration\n",
       "0         218.93179\n",
       "1         148.03546\n",
       "2         177.47546\n",
       "3         233.40363\n",
       "4         209.60608\n",
       "...             ...\n",
       "9705      386.19383\n",
       "9706      168.01914\n",
       "9707      193.72363\n",
       "9708      300.82567\n",
       "9709      209.73669\n",
       "\n",
       "[9710 rows x 1 columns]"
      ]
     },
     "execution_count": 2,
     "metadata": {},
     "output_type": "execute_result"
    }
   ],
   "source": [
    "df = pd.read_csv(\"a1.csv\")\n",
    "df = df.drop(labels='Unnamed: 0', axis='columns')\n",
    "df"
   ]
  },
  {
   "cell_type": "code",
   "execution_count": 3,
   "id": "253047a6",
   "metadata": {},
   "outputs": [],
   "source": [
    "# set some standards for graphs\n",
    "plt.rcParams['figure.figsize'] = (10, 7)\n",
    "sns.set(context = 'talk', style='white', font_scale=1, rc={'axes.spines.right': False,'axes.spines.top': False})"
   ]
  },
  {
   "cell_type": "code",
   "execution_count": 4,
   "id": "1c1a9363",
   "metadata": {},
   "outputs": [
    {
     "data": {
      "image/png": "[encoded data removed]",
      "text/plain": [
       "<Figure size 720x504 with 1 Axes>"
      ]
     },
     "metadata": {},
     "output_type": "display_data"
    }
   ],
   "source": [
    "histgram = sns.histplot(data=df, binwidth=4, palette='Purples', legend=False)\n",
    "plt.title('Distribution of Song Durations')\n",
    "plt.xlabel('Song Duration')\n",
    "plt.show()"
   ]
  },
  {
   "cell_type": "markdown",
   "id": "ec867818",
   "metadata": {},
   "source": [
    "2.) This distribution is symmetric and does not have a skew."
   ]
  },
  {
   "cell_type": "markdown",
   "id": "95ecc0dd",
   "metadata": {},
   "source": [
    "### Central tendency\n",
    "3. Report the mean and median of this distribution.\n",
    "4. Justify which measure of central tendency is more appropriate."
   ]
  },
  {
   "cell_type": "code",
   "execution_count": 5,
   "id": "f8863f1c",
   "metadata": {},
   "outputs": [
    {
     "data": {
      "text/html": [
       "<div>\n",
       "<style scoped>\n",
       "    .dataframe tbody tr th:only-of-type {\n",
       "        vertical-align: middle;\n",
       "    }\n",
       "\n",
       "    .dataframe tbody tr th {\n",
       "        vertical-align: top;\n",
       "    }\n",
       "\n",
       "    .dataframe thead th {\n",
       "        text-align: right;\n",
       "    }\n",
       "</style>\n",
       "<table border=\"1\" class=\"dataframe\">\n",
       "  <thead>\n",
       "    <tr style=\"text-align: right;\">\n",
       "      <th></th>\n",
       "      <th>song.duration</th>\n",
       "    </tr>\n",
       "  </thead>\n",
       "  <tbody>\n",
       "    <tr>\n",
       "      <th>count</th>\n",
       "      <td>9710.000000</td>\n",
       "    </tr>\n",
       "    <tr>\n",
       "      <th>mean</th>\n",
       "      <td>226.086609</td>\n",
       "    </tr>\n",
       "    <tr>\n",
       "      <th>std</th>\n",
       "      <td>80.241855</td>\n",
       "    </tr>\n",
       "    <tr>\n",
       "      <th>min</th>\n",
       "      <td>1.044440</td>\n",
       "    </tr>\n",
       "    <tr>\n",
       "      <th>25%</th>\n",
       "      <td>174.602000</td>\n",
       "    </tr>\n",
       "    <tr>\n",
       "      <th>50%</th>\n",
       "      <td>220.473020</td>\n",
       "    </tr>\n",
       "    <tr>\n",
       "      <th>75%</th>\n",
       "      <td>270.001180</td>\n",
       "    </tr>\n",
       "    <tr>\n",
       "      <th>max</th>\n",
       "      <td>486.425670</td>\n",
       "    </tr>\n",
       "  </tbody>\n",
       "</table>\n",
       "</div>"
      ],
      "text/plain": [
       "       song.duration\n",
       "count    9710.000000\n",
       "mean      226.086609\n",
       "std        80.241855\n",
       "min         1.044440\n",
       "25%       174.602000\n",
       "50%       220.473020\n",
       "75%       270.001180\n",
       "max       486.425670"
      ]
     },
     "execution_count": 5,
     "metadata": {},
     "output_type": "execute_result"
    }
   ],
   "source": [
    "df.describe()"
   ]
  },
  {
   "cell_type": "markdown",
   "id": "90f0db2d",
   "metadata": {},
   "source": [
    "3.) The mean is 226 and the median is 220."
   ]
  },
  {
   "cell_type": "markdown",
   "id": "28315231",
   "metadata": {},
   "source": [
    "4.) The mean is more appropriate because there are no extreme values that would strongly influence the mean. The mean also takes into account all values from the dataset."
   ]
  },
  {
   "cell_type": "markdown",
   "id": "5fe1b094",
   "metadata": {},
   "source": [
    "### Variability\n",
    "5. Report the min, max and range of this distribution.\n",
    "6. Report the sum of the squared deviations.\n",
    "7. Report the variance (treating this dataset as population)..\n",
    "8. Report the standard deviation (treating this dataset as population).\n",
    "9. Use the function STDEV.P and STDEV.S to report the standard deviation.\n",
    "10. Are these two values the same?\n",
    "11. If not, please explain why they are different?"
   ]
  },
  {
   "cell_type": "markdown",
   "id": "51bbc3e6",
   "metadata": {},
   "source": [
    "5.) The minimum value is 1, the maximum value is 486, and the range is 485.38123. "
   ]
  },
  {
   "cell_type": "code",
   "execution_count": 19,
   "id": "e59abf09",
   "metadata": {},
   "outputs": [
    {
     "data": {
      "text/html": [
       "<div>\n",
       "<style scoped>\n",
       "    .dataframe tbody tr th:only-of-type {\n",
       "        vertical-align: middle;\n",
       "    }\n",
       "\n",
       "    .dataframe tbody tr th {\n",
       "        vertical-align: top;\n",
       "    }\n",
       "\n",
       "    .dataframe thead th {\n",
       "        text-align: right;\n",
       "    }\n",
       "</style>\n",
       "<table border=\"1\" class=\"dataframe\">\n",
       "  <thead>\n",
       "    <tr style=\"text-align: right;\">\n",
       "      <th></th>\n",
       "      <th>song.duration</th>\n",
       "      <th>squared deviations</th>\n",
       "      <th>deviations</th>\n",
       "    </tr>\n",
       "  </thead>\n",
       "  <tbody>\n",
       "    <tr>\n",
       "      <th>0</th>\n",
       "      <td>218.93179</td>\n",
       "      <td>51.191437</td>\n",
       "      <td>-7.154819</td>\n",
       "    </tr>\n",
       "    <tr>\n",
       "      <th>1</th>\n",
       "      <td>148.03546</td>\n",
       "      <td>6091.981878</td>\n",
       "      <td>-78.051149</td>\n",
       "    </tr>\n",
       "    <tr>\n",
       "      <th>2</th>\n",
       "      <td>177.47546</td>\n",
       "      <td>2363.043818</td>\n",
       "      <td>-48.611149</td>\n",
       "    </tr>\n",
       "    <tr>\n",
       "      <th>3</th>\n",
       "      <td>233.40363</td>\n",
       "      <td>53.538795</td>\n",
       "      <td>7.317021</td>\n",
       "    </tr>\n",
       "    <tr>\n",
       "      <th>4</th>\n",
       "      <td>209.60608</td>\n",
       "      <td>271.607840</td>\n",
       "      <td>-16.480529</td>\n",
       "    </tr>\n",
       "    <tr>\n",
       "      <th>...</th>\n",
       "      <td>...</td>\n",
       "      <td>...</td>\n",
       "      <td>...</td>\n",
       "    </tr>\n",
       "    <tr>\n",
       "      <th>9705</th>\n",
       "      <td>386.19383</td>\n",
       "      <td>25634.322180</td>\n",
       "      <td>160.107221</td>\n",
       "    </tr>\n",
       "    <tr>\n",
       "      <th>9706</th>\n",
       "      <td>168.01914</td>\n",
       "      <td>3371.830969</td>\n",
       "      <td>-58.067469</td>\n",
       "    </tr>\n",
       "    <tr>\n",
       "      <th>9707</th>\n",
       "      <td>193.72363</td>\n",
       "      <td>1047.362417</td>\n",
       "      <td>-32.362979</td>\n",
       "    </tr>\n",
       "    <tr>\n",
       "      <th>9708</th>\n",
       "      <td>300.82567</td>\n",
       "      <td>5585.927222</td>\n",
       "      <td>74.739061</td>\n",
       "    </tr>\n",
       "    <tr>\n",
       "      <th>9709</th>\n",
       "      <td>209.73669</td>\n",
       "      <td>267.319855</td>\n",
       "      <td>-16.349919</td>\n",
       "    </tr>\n",
       "  </tbody>\n",
       "</table>\n",
       "<p>9710 rows × 3 columns</p>\n",
       "</div>"
      ],
      "text/plain": [
       "      song.duration  squared deviations  deviations\n",
       "0         218.93179           51.191437   -7.154819\n",
       "1         148.03546         6091.981878  -78.051149\n",
       "2         177.47546         2363.043818  -48.611149\n",
       "3         233.40363           53.538795    7.317021\n",
       "4         209.60608          271.607840  -16.480529\n",
       "...             ...                 ...         ...\n",
       "9705      386.19383        25634.322180  160.107221\n",
       "9706      168.01914         3371.830969  -58.067469\n",
       "9707      193.72363         1047.362417  -32.362979\n",
       "9708      300.82567         5585.927222   74.739061\n",
       "9709      209.73669          267.319855  -16.349919\n",
       "\n",
       "[9710 rows x 3 columns]"
      ]
     },
     "execution_count": 19,
     "metadata": {},
     "output_type": "execute_result"
    }
   ],
   "source": [
    "df"
   ]
  },
  {
   "cell_type": "code",
   "execution_count": 15,
   "id": "94510aec",
   "metadata": {},
   "outputs": [
    {
     "data": {
      "text/plain": [
       "226.0866091132848"
      ]
     },
     "execution_count": 15,
     "metadata": {},
     "output_type": "execute_result"
    }
   ],
   "source": [
    "mean = df['song.duration'].mean()\n",
    "mean"
   ]
  },
  {
   "cell_type": "code",
   "execution_count": 16,
   "id": "41faa99e",
   "metadata": {},
   "outputs": [],
   "source": [
    "df['deviations'] = df['song.duration'] - mean"
   ]
  },
  {
   "cell_type": "code",
   "execution_count": 18,
   "id": "c4901635",
   "metadata": {},
   "outputs": [],
   "source": [
    "df['squared deviations'] = df['deviations'] ** 2"
   ]
  },
  {
   "cell_type": "code",
   "execution_count": 22,
   "id": "5accb512",
   "metadata": {},
   "outputs": [
    {
     "data": {
      "text/plain": [
       "62513874.64062122"
      ]
     },
     "execution_count": 22,
     "metadata": {},
     "output_type": "execute_result"
    }
   ],
   "source": [
    "ss = df['squared deviations'].sum()\n",
    "ss"
   ]
  },
  {
   "cell_type": "markdown",
   "id": "61d781f4",
   "metadata": {},
   "source": [
    "6.) The sum of the squared deviations is 62513875."
   ]
  },
  {
   "cell_type": "code",
   "execution_count": 25,
   "id": "d6defe7f",
   "metadata": {},
   "outputs": [
    {
     "data": {
      "text/plain": [
       "6438.092136006305"
      ]
     },
     "execution_count": 25,
     "metadata": {},
     "output_type": "execute_result"
    }
   ],
   "source": [
    "variance = ss / (df['song.duration'].count())\n",
    "variance"
   ]
  },
  {
   "cell_type": "markdown",
   "id": "2e85876b",
   "metadata": {},
   "source": [
    "7.) The variance, assuming that the dataset is the population, is 6439."
   ]
  },
  {
   "cell_type": "code",
   "execution_count": 27,
   "id": "c12997e3",
   "metadata": {},
   "outputs": [
    {
     "data": {
      "text/plain": [
       "80.23772264967585"
      ]
     },
     "execution_count": 27,
     "metadata": {},
     "output_type": "execute_result"
    }
   ],
   "source": [
    "std = variance ** (1/2)\n",
    "std"
   ]
  },
  {
   "cell_type": "markdown",
   "id": "99e999c4",
   "metadata": {},
   "source": [
    "8.) The standard deviation is 81."
   ]
  },
  {
   "cell_type": "code",
   "execution_count": 28,
   "id": "02f315e8",
   "metadata": {},
   "outputs": [
    {
     "data": {
      "text/plain": [
       "80.24185467443074"
      ]
     },
     "execution_count": 28,
     "metadata": {},
     "output_type": "execute_result"
    }
   ],
   "source": [
    "# now finding the sample standard deviation...\n",
    "sample_std = (ss / (df['song.duration'].count() - 1)) ** (1/2)\n",
    "sample_std"
   ]
  },
  {
   "cell_type": "markdown",
   "id": "6bf8d458",
   "metadata": {},
   "source": [
    "9.) Population std: 80.2377, Sample std: 80.2419"
   ]
  },
  {
   "cell_type": "markdown",
   "id": "a803aabf",
   "metadata": {},
   "source": [
    "10.) These two values aren't the same.\\\n",
    "11.) This because sample standard deviation has to account for how it usually underestimates the standard deviation, as samples have less variation than the population. Therefore, the formula is different."
   ]
  },
  {
   "cell_type": "markdown",
   "id": "64d7e2d5",
   "metadata": {},
   "source": [
    "### z-test\n",
    "12. Assuming that this is population data, what is the z-score corresponding to X = 420?\n",
    "13. Assuming that this is population data, what is the z-score corresponding to X = 240?\n",
    "14. Assuming that this is population data, what is the X according to z = -2.00? Using the\n",
    "z-table, what is the area under the bell curve?\n",
    "15. Assuming that this is population data, what is the X according to z = 1.96? Using the\n",
    "z-table, what is the area under the bell curve?"
   ]
  },
  {
   "cell_type": "code",
   "execution_count": 36,
   "id": "8715a0a5",
   "metadata": {},
   "outputs": [
    {
     "data": {
      "text/plain": [
       "2.416735975089375"
      ]
     },
     "execution_count": 36,
     "metadata": {},
     "output_type": "execute_result"
    }
   ],
   "source": [
    "zscore1 = (420 - mean) / std\n",
    "zscore1"
   ]
  },
  {
   "cell_type": "markdown",
   "id": "ca6f5a8d",
   "metadata": {},
   "source": [
    "12.) The z-score is 2.4167."
   ]
  },
  {
   "cell_type": "code",
   "execution_count": 37,
   "id": "9f2195d4",
   "metadata": {},
   "outputs": [
    {
     "data": {
      "text/plain": [
       "0.17340211595314284"
      ]
     },
     "execution_count": 37,
     "metadata": {},
     "output_type": "execute_result"
    }
   ],
   "source": [
    "zscore2 = (240 - mean) / std\n",
    "zscore2"
   ]
  },
  {
   "cell_type": "markdown",
   "id": "99616602",
   "metadata": {},
   "source": [
    "13.) The z-score is 0.1734."
   ]
  },
  {
   "cell_type": "code",
   "execution_count": 38,
   "id": "d84fd10b",
   "metadata": {},
   "outputs": [
    {
     "data": {
      "text/plain": [
       "65.6111638139331"
      ]
     },
     "execution_count": 38,
     "metadata": {},
     "output_type": "execute_result"
    }
   ],
   "source": [
    "x1 = (-2) * std + mean\n",
    "x1"
   ]
  },
  {
   "cell_type": "markdown",
   "id": "bbb28154",
   "metadata": {},
   "source": [
    "14.) The X according to z = -2 is 65.6112. The area under the bell curve is .0228."
   ]
  },
  {
   "cell_type": "code",
   "execution_count": 39,
   "id": "1b9b9540",
   "metadata": {},
   "outputs": [
    {
     "data": {
      "text/plain": [
       "383.35254550664945"
      ]
     },
     "execution_count": 39,
     "metadata": {},
     "output_type": "execute_result"
    }
   ],
   "source": [
    "x2 = 1.96 * std + mean\n",
    "x2"
   ]
  },
  {
   "cell_type": "markdown",
   "id": "1347ad41",
   "metadata": {},
   "source": [
    "15.) The X according to z = 1.96 is 383.3525. The area under the bell curve is .9750. "
   ]
  }
 ],
 "metadata": {
  "kernelspec": {
   "display_name": "Python 3 (ipykernel)",
   "language": "python",
   "name": "python3"
  },
  "language_info": {
   "codemirror_mode": {
    "name": "ipython",
    "version": 3
   },
   "file_extension": ".py",
   "mimetype": "text/x-python",
   "name": "python",
   "nbconvert_exporter": "python",
   "pygments_lexer": "ipython3",
   "version": "3.9.7"
  }
 },
 "nbformat": 4,
 "nbformat_minor": 5
}
