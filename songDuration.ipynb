{
 "cells": [
  {
   "cell_type": "markdown",
   "id": "cf782470",
   "metadata": {},
   "source": [
    "# Song Duration: Assignment 1"
   ]
  },
  {
   "cell_type": "markdown",
   "id": "844357dc",
   "metadata": {},
   "source": [
    "### Data distribution\n",
    "1. Using Google Sheets, make an appropriate graph to visualize the entire distribution of\n",
    "this data. Remember to include x and y label and the figure title. Upload a screenshot to\n",
    "Canvas. (Hint: use bin size = 1)\n",
    "2. Is this distribution symmetric or asymmetric? Does it skew? If so, what type?"
   ]
  },
  {
   "cell_type": "code",
   "execution_count": 16,
   "id": "76158caa",
   "metadata": {},
   "outputs": [],
   "source": [
    "import pandas as pd\n",
    "import seaborn as sns\n",
    "import matplotlib.pyplot as plt"
   ]
  },
  {
   "cell_type": "code",
   "execution_count": 8,
   "id": "527d4512",
   "metadata": {},
   "outputs": [
    {
     "data": {
      "text/html": [
       "<div>\n",
       "<style scoped>\n",
       "    .dataframe tbody tr th:only-of-type {\n",
       "        vertical-align: middle;\n",
       "    }\n",
       "\n",
       "    .dataframe tbody tr th {\n",
       "        vertical-align: top;\n",
       "    }\n",
       "\n",
       "    .dataframe thead th {\n",
       "        text-align: right;\n",
       "    }\n",
       "</style>\n",
       "<table border=\"1\" class=\"dataframe\">\n",
       "  <thead>\n",
       "    <tr style=\"text-align: right;\">\n",
       "      <th></th>\n",
       "      <th>song.duration</th>\n",
       "    </tr>\n",
       "  </thead>\n",
       "  <tbody>\n",
       "    <tr>\n",
       "      <th>0</th>\n",
       "      <td>218.93179</td>\n",
       "    </tr>\n",
       "    <tr>\n",
       "      <th>1</th>\n",
       "      <td>148.03546</td>\n",
       "    </tr>\n",
       "    <tr>\n",
       "      <th>2</th>\n",
       "      <td>177.47546</td>\n",
       "    </tr>\n",
       "    <tr>\n",
       "      <th>3</th>\n",
       "      <td>233.40363</td>\n",
       "    </tr>\n",
       "    <tr>\n",
       "      <th>4</th>\n",
       "      <td>209.60608</td>\n",
       "    </tr>\n",
       "    <tr>\n",
       "      <th>...</th>\n",
       "      <td>...</td>\n",
       "    </tr>\n",
       "    <tr>\n",
       "      <th>9705</th>\n",
       "      <td>386.19383</td>\n",
       "    </tr>\n",
       "    <tr>\n",
       "      <th>9706</th>\n",
       "      <td>168.01914</td>\n",
       "    </tr>\n",
       "    <tr>\n",
       "      <th>9707</th>\n",
       "      <td>193.72363</td>\n",
       "    </tr>\n",
       "    <tr>\n",
       "      <th>9708</th>\n",
       "      <td>300.82567</td>\n",
       "    </tr>\n",
       "    <tr>\n",
       "      <th>9709</th>\n",
       "      <td>209.73669</td>\n",
       "    </tr>\n",
       "  </tbody>\n",
       "</table>\n",
       "<p>9710 rows × 1 columns</p>\n",
       "</div>"
      ],
      "text/plain": [
       "      song.duration\n",
       "0         218.93179\n",
       "1         148.03546\n",
       "2         177.47546\n",
       "3         233.40363\n",
       "4         209.60608\n",
       "...             ...\n",
       "9705      386.19383\n",
       "9706      168.01914\n",
       "9707      193.72363\n",
       "9708      300.82567\n",
       "9709      209.73669\n",
       "\n",
       "[9710 rows x 1 columns]"
      ]
     },
     "execution_count": 8,
     "metadata": {},
     "output_type": "execute_result"
    }
   ],
   "source": [
    "df = pd.read_csv(\"a1.csv\")\n",
    "df = df.drop(labels='Unnamed: 0', axis='columns')\n",
    "df"
   ]
  },
  {
   "cell_type": "code",
   "execution_count": 20,
   "id": "1c1a9363",
   "metadata": {},
   "outputs": [
    {
     "data": {
      "image/png": "[encoded data removed]",
      "text/plain": [
       "<Figure size 432x288 with 1 Axes>"
      ]
     },
     "metadata": {
      "needs_background": "light"
     },
     "output_type": "display_data"
    }
   ],
   "source": [
    "histgram = sns.histplot(data=df)\n",
    "plt.title('Song Durations in seconds')\n",
    "plt.show()"
   ]
  },
  {
   "cell_type": "markdown",
   "id": "95ecc0dd",
   "metadata": {},
   "source": [
    "### Central tendency\n",
    "3. Report the mean and median of this distribution.\n",
    "4. Justify which measure of central tendency is more appropriate."
   ]
  },
  {
   "cell_type": "markdown",
   "id": "5fe1b094",
   "metadata": {},
   "source": [
    "### Variability\n",
    "5. Report the min, max and range of this distribution.\n",
    "6. Report the sum of the squared deviations.\n",
    "7. Report the variance (treating this dataset as population)..\n",
    "8. Report the standard deviation (treating this dataset as population).\n",
    "9. Use the function STDEV.P and STDEV.S to report the standard deviation.\n",
    "10. Are these two values the same?\n",
    "11. If not, please explain why they are different?"
   ]
  },
  {
   "cell_type": "markdown",
   "id": "64d7e2d5",
   "metadata": {},
   "source": [
    "### z-test\n",
    "12. Assuming that this is population data, what is the z-score corresponding to X = 420?\n",
    "13. Assuming that this is population data, what is the z-score corresponding to X = 240?\n",
    "14. Assuming that this is population data, what is the X according to z = -2.00? Using the\n",
    "z-table, what is the area under the bell curve?\n",
    "15. Assuming that this is population data, what is the X according to z = 1.96? Using the\n",
    "z-table, what is the area under the bell curve?z-test\n",
    "12. Assuming that this is population data, what is the z-score corresponding to X = 420?\n",
    "13. Assuming that this is population data, what is the z-score corresponding to X = 240?\n",
    "14. Assuming that this is population data, what is the X according to z = -2.00? Using the\n",
    "z-table, what is the area under the bell curve?\n",
    "15. Assuming that this is population data, what is the X according to z = 1.96? Using the"
   ]
  }
 ],
 "metadata": {
  "kernelspec": {
   "display_name": "Python 3 (ipykernel)",
   "language": "python",
   "name": "python3"
  },
  "language_info": {
   "codemirror_mode": {
    "name": "ipython",
    "version": 3
   },
   "file_extension": ".py",
   "mimetype": "text/x-python",
   "name": "python",
   "nbconvert_exporter": "python",
   "pygments_lexer": "ipython3",
   "version": "3.9.7"
  }
 },
 "nbformat": 4,
 "nbformat_minor": 5
}
